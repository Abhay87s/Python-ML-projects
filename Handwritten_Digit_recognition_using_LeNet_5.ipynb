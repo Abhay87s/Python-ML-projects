{
  "nbformat": 4,
  "nbformat_minor": 0,
  "metadata": {
    "colab": {
      "name": "Handwritten Digit recognition using LeNet-5.ipynb",
      "provenance": [],
      "collapsed_sections": [],
      "authorship_tag": "ABX9TyMdfoHupuS/jPD3zbrKZ3I/",
      "include_colab_link": true
    },
    "kernelspec": {
      "name": "python3",
      "display_name": "Python 3"
    },
    "language_info": {
      "name": "python"
    }
  },
  "cells": [
    {
      "cell_type": "markdown",
      "metadata": {
        "id": "view-in-github",
        "colab_type": "text"
      },
      "source": [
        "<a href=\"https://colab.research.google.com/github/Abhay87s/Python-ML-projects/blob/main/Handwritten_Digit_recognition_using_LeNet_5.ipynb\" target=\"_parent\"><img src=\"https://colab.research.google.com/assets/colab-badge.svg\" alt=\"Open In Colab\"/></a>"
      ]
    },
    {
      "cell_type": "markdown",
      "source": [
        "Term Paper Project on 'Gradient based learning for document recognition, Yann Lecun'"
      ],
      "metadata": {
        "id": "K0dxmDx7JKlx"
      }
    },
    {
      "cell_type": "markdown",
      "source": [
        "Course Project EE656 under Prof. Nischal kumar Verma"
      ],
      "metadata": {
        "id": "emGMhoSbH8A5"
      }
    },
    {
      "cell_type": "markdown",
      "source": [
        " LeNet-5 Architecture based convolutional Neural Network."
      ],
      "metadata": {
        "id": "oX-ZJ1ZBBC7d"
      }
    },
    {
      "cell_type": "code",
      "source": [
        "!pip install tensorflow"
      ],
      "metadata": {
        "colab": {
          "base_uri": "https://localhost:8080/"
        },
        "id": "Ix7nKkCkVfgx",
        "outputId": "4f731eff-ac46-4df2-ae83-29fc8f2a6e13"
      },
      "execution_count": null,
      "outputs": [
        {
          "output_type": "stream",
          "name": "stdout",
          "text": [
            "Requirement already satisfied: tensorflow in /usr/local/lib/python3.7/dist-packages (2.8.0)\n",
            "Requirement already satisfied: absl-py>=0.4.0 in /usr/local/lib/python3.7/dist-packages (from tensorflow) (1.0.0)\n",
            "Requirement already satisfied: grpcio<2.0,>=1.24.3 in /usr/local/lib/python3.7/dist-packages (from tensorflow) (1.44.0)\n",
            "Requirement already satisfied: tensorboard<2.9,>=2.8 in /usr/local/lib/python3.7/dist-packages (from tensorflow) (2.8.0)\n",
            "Requirement already satisfied: numpy>=1.20 in /usr/local/lib/python3.7/dist-packages (from tensorflow) (1.21.5)\n",
            "Requirement already satisfied: six>=1.12.0 in /usr/local/lib/python3.7/dist-packages (from tensorflow) (1.15.0)\n",
            "Requirement already satisfied: flatbuffers>=1.12 in /usr/local/lib/python3.7/dist-packages (from tensorflow) (2.0)\n",
            "Requirement already satisfied: keras<2.9,>=2.8.0rc0 in /usr/local/lib/python3.7/dist-packages (from tensorflow) (2.8.0)\n",
            "Requirement already satisfied: gast>=0.2.1 in /usr/local/lib/python3.7/dist-packages (from tensorflow) (0.5.3)\n",
            "Requirement already satisfied: h5py>=2.9.0 in /usr/local/lib/python3.7/dist-packages (from tensorflow) (3.1.0)\n",
            "Requirement already satisfied: tensorflow-io-gcs-filesystem>=0.23.1 in /usr/local/lib/python3.7/dist-packages (from tensorflow) (0.24.0)\n",
            "Requirement already satisfied: keras-preprocessing>=1.1.1 in /usr/local/lib/python3.7/dist-packages (from tensorflow) (1.1.2)\n",
            "Collecting tf-estimator-nightly==2.8.0.dev2021122109\n",
            "  Downloading tf_estimator_nightly-2.8.0.dev2021122109-py2.py3-none-any.whl (462 kB)\n",
            "\u001b[K     |████████████████████████████████| 462 kB 8.5 MB/s \n",
            "\u001b[?25hRequirement already satisfied: wrapt>=1.11.0 in /usr/local/lib/python3.7/dist-packages (from tensorflow) (1.14.0)\n",
            "Requirement already satisfied: protobuf>=3.9.2 in /usr/local/lib/python3.7/dist-packages (from tensorflow) (3.17.3)\n",
            "Requirement already satisfied: opt-einsum>=2.3.2 in /usr/local/lib/python3.7/dist-packages (from tensorflow) (3.3.0)\n",
            "Requirement already satisfied: google-pasta>=0.1.1 in /usr/local/lib/python3.7/dist-packages (from tensorflow) (0.2.0)\n",
            "Requirement already satisfied: libclang>=9.0.1 in /usr/local/lib/python3.7/dist-packages (from tensorflow) (13.0.0)\n",
            "Requirement already satisfied: astunparse>=1.6.0 in /usr/local/lib/python3.7/dist-packages (from tensorflow) (1.6.3)\n",
            "Requirement already satisfied: setuptools in /usr/local/lib/python3.7/dist-packages (from tensorflow) (57.4.0)\n",
            "Requirement already satisfied: termcolor>=1.1.0 in /usr/local/lib/python3.7/dist-packages (from tensorflow) (1.1.0)\n",
            "Requirement already satisfied: typing-extensions>=3.6.6 in /usr/local/lib/python3.7/dist-packages (from tensorflow) (3.10.0.2)\n",
            "Requirement already satisfied: wheel<1.0,>=0.23.0 in /usr/local/lib/python3.7/dist-packages (from astunparse>=1.6.0->tensorflow) (0.37.1)\n",
            "Requirement already satisfied: cached-property in /usr/local/lib/python3.7/dist-packages (from h5py>=2.9.0->tensorflow) (1.5.2)\n",
            "Requirement already satisfied: tensorboard-plugin-wit>=1.6.0 in /usr/local/lib/python3.7/dist-packages (from tensorboard<2.9,>=2.8->tensorflow) (1.8.1)\n",
            "Requirement already satisfied: werkzeug>=0.11.15 in /usr/local/lib/python3.7/dist-packages (from tensorboard<2.9,>=2.8->tensorflow) (1.0.1)\n",
            "Requirement already satisfied: markdown>=2.6.8 in /usr/local/lib/python3.7/dist-packages (from tensorboard<2.9,>=2.8->tensorflow) (3.3.6)\n",
            "Requirement already satisfied: google-auth<3,>=1.6.3 in /usr/local/lib/python3.7/dist-packages (from tensorboard<2.9,>=2.8->tensorflow) (1.35.0)\n",
            "Requirement already satisfied: requests<3,>=2.21.0 in /usr/local/lib/python3.7/dist-packages (from tensorboard<2.9,>=2.8->tensorflow) (2.23.0)\n",
            "Requirement already satisfied: tensorboard-data-server<0.7.0,>=0.6.0 in /usr/local/lib/python3.7/dist-packages (from tensorboard<2.9,>=2.8->tensorflow) (0.6.1)\n",
            "Requirement already satisfied: google-auth-oauthlib<0.5,>=0.4.1 in /usr/local/lib/python3.7/dist-packages (from tensorboard<2.9,>=2.8->tensorflow) (0.4.6)\n",
            "Requirement already satisfied: cachetools<5.0,>=2.0.0 in /usr/local/lib/python3.7/dist-packages (from google-auth<3,>=1.6.3->tensorboard<2.9,>=2.8->tensorflow) (4.2.4)\n",
            "Requirement already satisfied: rsa<5,>=3.1.4 in /usr/local/lib/python3.7/dist-packages (from google-auth<3,>=1.6.3->tensorboard<2.9,>=2.8->tensorflow) (4.8)\n",
            "Requirement already satisfied: pyasn1-modules>=0.2.1 in /usr/local/lib/python3.7/dist-packages (from google-auth<3,>=1.6.3->tensorboard<2.9,>=2.8->tensorflow) (0.2.8)\n",
            "Requirement already satisfied: requests-oauthlib>=0.7.0 in /usr/local/lib/python3.7/dist-packages (from google-auth-oauthlib<0.5,>=0.4.1->tensorboard<2.9,>=2.8->tensorflow) (1.3.1)\n",
            "Requirement already satisfied: importlib-metadata>=4.4 in /usr/local/lib/python3.7/dist-packages (from markdown>=2.6.8->tensorboard<2.9,>=2.8->tensorflow) (4.11.3)\n",
            "Requirement already satisfied: zipp>=0.5 in /usr/local/lib/python3.7/dist-packages (from importlib-metadata>=4.4->markdown>=2.6.8->tensorboard<2.9,>=2.8->tensorflow) (3.7.0)\n",
            "Requirement already satisfied: pyasn1<0.5.0,>=0.4.6 in /usr/local/lib/python3.7/dist-packages (from pyasn1-modules>=0.2.1->google-auth<3,>=1.6.3->tensorboard<2.9,>=2.8->tensorflow) (0.4.8)\n",
            "Requirement already satisfied: certifi>=2017.4.17 in /usr/local/lib/python3.7/dist-packages (from requests<3,>=2.21.0->tensorboard<2.9,>=2.8->tensorflow) (2021.10.8)\n",
            "Requirement already satisfied: urllib3!=1.25.0,!=1.25.1,<1.26,>=1.21.1 in /usr/local/lib/python3.7/dist-packages (from requests<3,>=2.21.0->tensorboard<2.9,>=2.8->tensorflow) (1.24.3)\n",
            "Requirement already satisfied: chardet<4,>=3.0.2 in /usr/local/lib/python3.7/dist-packages (from requests<3,>=2.21.0->tensorboard<2.9,>=2.8->tensorflow) (3.0.4)\n",
            "Requirement already satisfied: idna<3,>=2.5 in /usr/local/lib/python3.7/dist-packages (from requests<3,>=2.21.0->tensorboard<2.9,>=2.8->tensorflow) (2.10)\n",
            "Requirement already satisfied: oauthlib>=3.0.0 in /usr/local/lib/python3.7/dist-packages (from requests-oauthlib>=0.7.0->google-auth-oauthlib<0.5,>=0.4.1->tensorboard<2.9,>=2.8->tensorflow) (3.2.0)\n",
            "Installing collected packages: tf-estimator-nightly\n",
            "Successfully installed tf-estimator-nightly-2.8.0.dev2021122109\n"
          ]
        }
      ]
    },
    {
      "cell_type": "markdown",
      "source": [
        "Importing Libraries"
      ],
      "metadata": {
        "id": "4ADpLoaVv8la"
      }
    },
    {
      "cell_type": "code",
      "source": [
        "import tensorflow as tf\n",
        "import matplotlib.pyplot as plt\n",
        "from tensorflow.keras import datasets, layers, models, losses"
      ],
      "metadata": {
        "id": "CrpBxAHGV43o"
      },
      "execution_count": null,
      "outputs": []
    },
    {
      "cell_type": "markdown",
      "source": [
        "Loading MNIST dataset"
      ],
      "metadata": {
        "id": "CsMvBTmevyot"
      }
    },
    {
      "cell_type": "code",
      "source": [
        "(x_train,y_train),(x_test,y_test) = datasets.mnist.load_data()\n",
        "x_train.shape"
      ],
      "metadata": {
        "colab": {
          "base_uri": "https://localhost:8080/"
        },
        "id": "ARrRWgVcWCxS",
        "outputId": "d5ae9de1-f636-424a-e306-53b4bb2cf3d3"
      },
      "execution_count": null,
      "outputs": [
        {
          "output_type": "stream",
          "name": "stdout",
          "text": [
            "Downloading data from https://storage.googleapis.com/tensorflow/tf-keras-datasets/mnist.npz\n",
            "11493376/11490434 [==============================] - 0s 0us/step\n",
            "11501568/11490434 [==============================] - 0s 0us/step\n"
          ]
        },
        {
          "output_type": "execute_result",
          "data": {
            "text/plain": [
              "(60000, 28, 28)"
            ]
          },
          "metadata": {},
          "execution_count": 3
        }
      ]
    },
    {
      "cell_type": "code",
      "source": [
        "x_train = tf.pad(x_train, [[0, 0], [2,2], [2,2]])/255\n",
        "x_test = tf.pad(x_test, [[0, 0], [2,2], [2,2]])/255\n",
        "x_train.shape"
      ],
      "metadata": {
        "colab": {
          "base_uri": "https://localhost:8080/"
        },
        "id": "laFDhziLWUKM",
        "outputId": "4e0a1eb5-6d42-431b-b4c7-4a98c8a52856"
      },
      "execution_count": null,
      "outputs": [
        {
          "output_type": "execute_result",
          "data": {
            "text/plain": [
              "TensorShape([60000, 32, 32])"
            ]
          },
          "metadata": {},
          "execution_count": 4
        }
      ]
    },
    {
      "cell_type": "code",
      "source": [
        "x_train = tf.expand_dims(x_train, axis=3, name=None)\n",
        "x_test = tf.expand_dims(x_test, axis=3, name=None)\n",
        "x_train.shape"
      ],
      "metadata": {
        "colab": {
          "base_uri": "https://localhost:8080/"
        },
        "id": "mmfIXsk0WbX0",
        "outputId": "5607cb59-a5a6-45e6-bd2e-e357e136dc17"
      },
      "execution_count": null,
      "outputs": [
        {
          "output_type": "execute_result",
          "data": {
            "text/plain": [
              "TensorShape([60000, 32, 32, 1])"
            ]
          },
          "metadata": {},
          "execution_count": 5
        }
      ]
    },
    {
      "cell_type": "code",
      "source": [
        "x_val = x_train[-2000:,:,:,:] \n",
        "y_val = y_train[-2000:] \n",
        "x_train = x_train[:-2000,:,:,:] \n",
        "y_train = y_train[:-2000]"
      ],
      "metadata": {
        "id": "0Mx5uunPWiC0"
      },
      "execution_count": null,
      "outputs": []
    },
    {
      "cell_type": "markdown",
      "source": [
        "LeNet-5 Model"
      ],
      "metadata": {
        "id": "9rbQz526vsgr"
      }
    },
    {
      "cell_type": "code",
      "source": [
        "model = models.Sequential()\n",
        "model.add(layers.Conv2D(6, 5, activation='tanh', input_shape=x_train.shape[1:]))\n",
        "model.add(layers.AveragePooling2D(2))\n",
        "model.add(layers.Activation('sigmoid'))\n",
        "model.add(layers.Conv2D(16, 5, activation='tanh'))\n",
        "model.add(layers.AveragePooling2D(2))\n",
        "model.add(layers.Activation('sigmoid'))\n",
        "model.add(layers.Conv2D(120, 5, activation='tanh'))\n",
        "model.add(layers.Flatten())\n",
        "model.add(layers.Dense(84, activation='tanh'))\n",
        "model.add(layers.Dense(10, activation='softmax'))\n",
        "model.summary()"
      ],
      "metadata": {
        "colab": {
          "base_uri": "https://localhost:8080/"
        },
        "id": "tkrT2eLyWrxx",
        "outputId": "3cab8a08-fa37-44be-9208-c95362934a5f"
      },
      "execution_count": null,
      "outputs": [
        {
          "output_type": "stream",
          "name": "stdout",
          "text": [
            "Model: \"sequential\"\n",
            "_________________________________________________________________\n",
            " Layer (type)                Output Shape              Param #   \n",
            "=================================================================\n",
            " conv2d (Conv2D)             (None, 28, 28, 6)         156       \n",
            "                                                                 \n",
            " average_pooling2d (AverageP  (None, 14, 14, 6)        0         \n",
            " ooling2D)                                                       \n",
            "                                                                 \n",
            " activation (Activation)     (None, 14, 14, 6)         0         \n",
            "                                                                 \n",
            " conv2d_1 (Conv2D)           (None, 10, 10, 16)        2416      \n",
            "                                                                 \n",
            " average_pooling2d_1 (Averag  (None, 5, 5, 16)         0         \n",
            " ePooling2D)                                                     \n",
            "                                                                 \n",
            " activation_1 (Activation)   (None, 5, 5, 16)          0         \n",
            "                                                                 \n",
            " conv2d_2 (Conv2D)           (None, 1, 1, 120)         48120     \n",
            "                                                                 \n",
            " flatten (Flatten)           (None, 120)               0         \n",
            "                                                                 \n",
            " dense (Dense)               (None, 84)                10164     \n",
            "                                                                 \n",
            " dense_1 (Dense)             (None, 10)                850       \n",
            "                                                                 \n",
            "=================================================================\n",
            "Total params: 61,706\n",
            "Trainable params: 61,706\n",
            "Non-trainable params: 0\n",
            "_________________________________________________________________\n"
          ]
        }
      ]
    },
    {
      "cell_type": "code",
      "source": [
        "model.compile(optimizer='adam', loss=losses.sparse_categorical_crossentropy, metrics=['accuracy'])\n",
        "history = model.fit(x_train, y_train, batch_size=128, epochs=20, validation_data=(x_val, y_val))"
      ],
      "metadata": {
        "colab": {
          "base_uri": "https://localhost:8080/"
        },
        "id": "5DC7kmI7Zc5R",
        "outputId": "82943dad-96c8-400e-e949-214fbc9d5e2f"
      },
      "execution_count": null,
      "outputs": [
        {
          "output_type": "stream",
          "name": "stdout",
          "text": [
            "Epoch 1/20\n",
            "454/454 [==============================] - 37s 79ms/step - loss: 1.9551 - accuracy: 0.2799 - val_loss: 0.5855 - val_accuracy: 0.8495\n",
            "Epoch 2/20\n",
            "454/454 [==============================] - 28s 62ms/step - loss: 0.5131 - accuracy: 0.8392 - val_loss: 0.3468 - val_accuracy: 0.9080\n",
            "Epoch 3/20\n",
            "454/454 [==============================] - 28s 62ms/step - loss: 0.3617 - accuracy: 0.8849 - val_loss: 0.2405 - val_accuracy: 0.9290\n",
            "Epoch 4/20\n",
            "454/454 [==============================] - 29s 64ms/step - loss: 0.3000 - accuracy: 0.9049 - val_loss: 0.2045 - val_accuracy: 0.9410\n",
            "Epoch 5/20\n",
            "454/454 [==============================] - 28s 62ms/step - loss: 0.2608 - accuracy: 0.9173 - val_loss: 0.1737 - val_accuracy: 0.9500\n",
            "Epoch 6/20\n",
            "454/454 [==============================] - 28s 62ms/step - loss: 0.2326 - accuracy: 0.9253 - val_loss: 0.1614 - val_accuracy: 0.9575\n",
            "Epoch 7/20\n",
            "454/454 [==============================] - 28s 62ms/step - loss: 0.2112 - accuracy: 0.9337 - val_loss: 0.1190 - val_accuracy: 0.9720\n",
            "Epoch 8/20\n",
            "454/454 [==============================] - 28s 62ms/step - loss: 0.1904 - accuracy: 0.9397 - val_loss: 0.1320 - val_accuracy: 0.9620\n",
            "Epoch 9/20\n",
            "454/454 [==============================] - 28s 62ms/step - loss: 0.1754 - accuracy: 0.9450 - val_loss: 0.1291 - val_accuracy: 0.9645\n",
            "Epoch 10/20\n",
            "454/454 [==============================] - 28s 62ms/step - loss: 0.1638 - accuracy: 0.9486 - val_loss: 0.1348 - val_accuracy: 0.9565\n",
            "Epoch 11/20\n",
            "454/454 [==============================] - 28s 62ms/step - loss: 0.1586 - accuracy: 0.9500 - val_loss: 0.0950 - val_accuracy: 0.9745\n",
            "Epoch 12/20\n",
            "454/454 [==============================] - 28s 63ms/step - loss: 0.1458 - accuracy: 0.9538 - val_loss: 0.1009 - val_accuracy: 0.9720\n",
            "Epoch 13/20\n",
            "454/454 [==============================] - 28s 63ms/step - loss: 0.1386 - accuracy: 0.9562 - val_loss: 0.0991 - val_accuracy: 0.9755\n",
            "Epoch 14/20\n",
            "454/454 [==============================] - 29s 63ms/step - loss: 0.1263 - accuracy: 0.9601 - val_loss: 0.0873 - val_accuracy: 0.9765\n",
            "Epoch 15/20\n",
            "454/454 [==============================] - 29s 63ms/step - loss: 0.1252 - accuracy: 0.9604 - val_loss: 0.0855 - val_accuracy: 0.9770\n",
            "Epoch 16/20\n",
            "454/454 [==============================] - 28s 62ms/step - loss: 0.1191 - accuracy: 0.9626 - val_loss: 0.0701 - val_accuracy: 0.9830\n",
            "Epoch 17/20\n",
            "454/454 [==============================] - 29s 63ms/step - loss: 0.1130 - accuracy: 0.9644 - val_loss: 0.0684 - val_accuracy: 0.9820\n",
            "Epoch 18/20\n",
            "454/454 [==============================] - 28s 63ms/step - loss: 0.1087 - accuracy: 0.9656 - val_loss: 0.1046 - val_accuracy: 0.9745\n",
            "Epoch 19/20\n",
            "454/454 [==============================] - 28s 63ms/step - loss: 0.1057 - accuracy: 0.9666 - val_loss: 0.0772 - val_accuracy: 0.9810\n",
            "Epoch 20/20\n",
            "454/454 [==============================] - 28s 63ms/step - loss: 0.0985 - accuracy: 0.9687 - val_loss: 0.0898 - val_accuracy: 0.9765\n"
          ]
        }
      ]
    },
    {
      "cell_type": "markdown",
      "source": [
        "Results"
      ],
      "metadata": {
        "id": "zYQ7EutewPeg"
      }
    },
    {
      "cell_type": "code",
      "source": [
        "fig, axs = plt.subplots(2, 1, figsize=(15,15))  \n",
        "axs[0].plot(history.history['loss']) \n",
        "axs[0].plot(history.history['val_loss'])\n",
        "axs[0].title.set_text('Training Loss vs Validation Loss') \n",
        "axs[0].legend(['Train', 'Val'])  \n",
        "axs[1].plot(history.history['accuracy']) \n",
        "axs[1].plot(history.history['val_accuracy'])\n",
        "axs[1].title.set_text('Training Accuracy vs Validation Accuracy')\n",
        "axs[1].legend(['Train', 'Val'])\n"
      ],
      "metadata": {
        "colab": {
          "base_uri": "https://localhost:8080/",
          "height": 896
        },
        "id": "froXYYP7cIYa",
        "outputId": "d94b1a11-2ac9-491d-cd50-2eef403e205b"
      },
      "execution_count": null,
      "outputs": [
        {
          "output_type": "execute_result",
          "data": {
            "text/plain": [
              "<matplotlib.legend.Legend at 0x7faa7f661f50>"
            ]
          },
          "metadata": {},
          "execution_count": 9
        },
        {
          "output_type": "display_data",
          "data": {
            "text/plain": [
              "<Figure size 1080x1080 with 2 Axes>"
            ],
            "image/png": "[encoded data removed]"
          },
          "metadata": {
            "needs_background": "light"
          }
        }
      ]
    },
    {
      "cell_type": "code",
      "source": [
        "model.evaluate(x_test, y_test)"
      ],
      "metadata": {
        "colab": {
          "base_uri": "https://localhost:8080/"
        },
        "id": "BnRI2mctAz7h",
        "outputId": "4fc7218d-d216-47d9-a7a0-4568b523bb9d"
      },
      "execution_count": null,
      "outputs": [
        {
          "output_type": "stream",
          "name": "stdout",
          "text": [
            "313/313 [==============================] - 3s 9ms/step - loss: 0.1054 - accuracy: 0.9675\n"
          ]
        },
        {
          "output_type": "execute_result",
          "data": {
            "text/plain": [
              "[0.10539548099040985, 0.9674999713897705]"
            ]
          },
          "metadata": {},
          "execution_count": 10
        }
      ]
    }
  ]
}